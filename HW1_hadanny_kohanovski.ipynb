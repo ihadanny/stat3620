{
 "cells": [
  {
   "cell_type": "markdown",
   "metadata": {},
   "source": [
    "### IDs:\n",
    "Insert yours IDs to the cell below"
   ]
  },
  {
   "cell_type": "markdown",
   "metadata": {},
   "source": [
    "ID #1: 034537969\n",
    "\n",
    "ID #2:"
   ]
  },
  {
   "cell_type": "markdown",
   "metadata": {},
   "source": [
    "Ido Hadanny \n",
    "Ilia Kohanovski"
   ]
  },
  {
   "cell_type": "markdown",
   "metadata": {},
   "source": [
    "## Read the following instructions carefully:\n",
    "\n",
    "1. This jupyter notebook contains all the step by step instructions needed for this exercise.\n",
    "1. You are free to add cells.\n",
    "1. Write your functions and your answers in this jupyter notebook only.\n",
    "1. Answers to theoretical questions should be written in **markdown cells (with $\\LaTeX$ support)**.\n",
    "1. Submit this jupyter notebook only using your ID as a filename. Not to use ZIP or RAR. For example, your Moodle submission file name should look like this (two id numbers): `123456789_987654321.ipynb`."
   ]
  },
  {
   "cell_type": "markdown",
   "metadata": {},
   "source": [
    "### Question 1 - Defective products"
   ]
  },
  {
   "cell_type": "markdown",
   "metadata": {},
   "source": [
    "In a manufacturing pipeline products are 1% defective. We are interested in examining a defective product to see what goes wrong on the belt. We need to ask the facility manager to send us a set of independent samples for examination."
   ]
  },
  {
   "cell_type": "markdown",
   "metadata": {},
   "source": [
    "#### 1.A\n",
    "\n",
    "How many independent samples should we ask for in order to have a 75% probability of having at least one defective product in the batch sent?\n",
    "Write a function that computes this."
   ]
  },
  {
   "cell_type": "markdown",
   "metadata": {},
   "source": [
    "$1-0.99^n > 0.75$\n",
    "\n",
    "$0.25 > 0.99^n$\n",
    "\n",
    "$log(0.25) > n*log(0.99)$\n",
    "\n",
    "$log(0.25) / log(0.99) < n$ (because $0.99<1$)\n"
   ]
  },
  {
   "cell_type": "code",
   "execution_count": 7,
   "metadata": {},
   "outputs": [
    {
     "data": {
      "text/plain": [
       "138"
      ]
     },
     "execution_count": 7,
     "metadata": {},
     "output_type": "execute_result"
    }
   ],
   "source": [
    "import numpy as np\n",
    "def at_least_one_in_batch(p, p_required):    \n",
    "    return int(np.ceil(np.log(1-p_required) / np.log(1-p)))\n",
    "at_least_one_in_batch(0.01, 0.75)"
   ]
  },
  {
   "cell_type": "markdown",
   "metadata": {},
   "source": [
    "#### Answer the same question but where:\n",
    "#### 1.B.1 \n",
    "Products are 4% defective and we want a 95% probability of at least one defective product in the batch"
   ]
  },
  {
   "cell_type": "code",
   "execution_count": 20,
   "metadata": {},
   "outputs": [
    {
     "data": {
      "text/plain": [
       "74"
      ]
     },
     "execution_count": 20,
     "metadata": {},
     "output_type": "execute_result"
    }
   ],
   "source": [
    "at_least_one_in_batch(0.04, 0.95)"
   ]
  },
  {
   "cell_type": "markdown",
   "metadata": {},
   "source": [
    "#### 1.B.2\n",
    "Products are 10% defective and we want a 90% probability of at least 5 defective products in the batch"
   ]
  },
  {
   "cell_type": "code",
   "execution_count": 45,
   "metadata": {},
   "outputs": [
    {
     "data": {
      "text/plain": [
       "78"
      ]
     },
     "execution_count": 45,
     "metadata": {},
     "output_type": "execute_result"
    }
   ],
   "source": [
    "from scipy.stats import binom\n",
    "def at_least_x_in_batch(p, required_p, x):\n",
    "    n, actual_p = 0, 0\n",
    "    while actual_p < required_p:\n",
    "        n += 1\n",
    "        actual_p = 1-binom.cdf(k=x-1, p=p, n=n)\n",
    "    return n\n",
    "at_least_x_in_batch(0.1, 0.90, 5)"
   ]
  },
  {
   "cell_type": "markdown",
   "metadata": {},
   "source": [
    "#### 1.B.3\n",
    "Products are 20% defective and we want a 90% probability of at least 10 defective products in the batch"
   ]
  },
  {
   "cell_type": "code",
   "execution_count": 51,
   "metadata": {},
   "outputs": [
    {
     "data": {
      "text/plain": [
       "69"
      ]
     },
     "execution_count": 51,
     "metadata": {},
     "output_type": "execute_result"
    }
   ],
   "source": [
    "at_least_x_in_batch(0.2, 0.90, 10)"
   ]
  },
  {
   "cell_type": "markdown",
   "metadata": {},
   "source": [
    "#### 1.C\n",
    "Can you comment on the difference between the answer 1.B.2 and that of 1.B.3?"
   ]
  },
  {
   "cell_type": "markdown",
   "metadata": {},
   "source": [
    "the intuitive expectation that there would be no difference is wrong, as if we would multiply p by 10 (100%) and also the required x by 10 (50), it's obvious that we'll get 50 and not 78. "
   ]
  },
  {
   "cell_type": "code",
   "execution_count": 52,
   "metadata": {},
   "outputs": [
    {
     "data": {
      "text/plain": [
       "50"
      ]
     },
     "execution_count": 52,
     "metadata": {},
     "output_type": "execute_result"
    }
   ],
   "source": [
    "at_least_x_in_batch(1, 0.90, 50)"
   ]
  },
  {
   "cell_type": "markdown",
   "metadata": {},
   "source": [
    "### Question 2 - Formula"
   ]
  },
  {
   "cell_type": "markdown",
   "metadata": {},
   "source": [
    "#### 2.A\n",
    "Prove (you can use what you learned in class. In particular - linearity of variance for independent random variables):"
   ]
  },
  {
   "cell_type": "markdown",
   "metadata": {},
   "source": [
    "$$g(n,p) = \\sum_{k=0}^{n} {n \\choose k} k^2 p^k (1-p)^{(n-k)} = np\\big(1+p(n-1)\\big)$$"
   ]
  },
  {
   "cell_type": "markdown",
   "metadata": {},
   "source": [
    "if X~Bin(n,p):\n",
    "\n",
    "$g(n,p)   \\equiv E(X^2) = Var(X) + E^2(X) = np(1-p) + (np)^2 = np(1+np-p) = np(1+p(n-1))$"
   ]
  },
  {
   "cell_type": "markdown",
   "metadata": {},
   "source": [
    "#### 2.B\n",
    "Use this formula to compute  (n = 5000, p = 0.1, 0.2, 0.3). What is the complexity of this calculation, in terms of n?"
   ]
  },
  {
   "cell_type": "code",
   "execution_count": 1,
   "metadata": {},
   "outputs": [
    {
     "name": "stdout",
     "output_type": "stream",
     "text": [
      "250450.00\n",
      "1000800.00\n",
      "2251050.00\n"
     ]
    }
   ],
   "source": [
    "def g(n, p):\n",
    "    return n*p*(1+p*(n-1))\n",
    "for p in [0.1, 0.2, 0.3]:\n",
    "    print(f\"{g(5000, p):.2f}\")"
   ]
  },
  {
   "cell_type": "markdown",
   "metadata": {},
   "source": [
    "the complexity is O(1)"
   ]
  },
  {
   "cell_type": "markdown",
   "metadata": {},
   "source": [
    "#### 2.C\n",
    "Consider the function:\n",
    "$$f(n,p) = \\sum_{k=0}^{n} {n \\choose k} k^3 p^k (1-p)^{(n-k)}$$\n",
    "\n",
    "Describe how $f(n,p)$ can be computed using a process that requires a constant number of multiplications and additions, regardless of n.\n",
    "Use your process to compute the values of $f(n=10000, p=0.05, 0.1, 0.2, 0.3)$ in O(1).<br>\n",
    "Explain all your steps. \n",
    " "
   ]
  },
  {
   "cell_type": "markdown",
   "metadata": {},
   "source": [
    "if X~Bin(n,p):\n",
    "\n",
    "$E(X^3-E(X)^3) = np(1-p)(1-2p)$                   &emsp;(from wikipedia)\n",
    "\n",
    "$=E(X^3) - 3E(X)E(X^2) + 3E(X)^2E(X)-E(X)^3$      &emsp;(from linearity of expectation)\n",
    "\n",
    "$=f(n,p) - 3E(X)g(n,p) - 2E(X)^3$                 &emsp;(by definition)\n",
    "\n",
    "$f(n,p) = np(1-p)(1-2p) + 3g(n,p)np + 2n^3p^3$    &emsp;(algebra)"
   ]
  },
  {
   "cell_type": "code",
   "execution_count": 5,
   "metadata": {},
   "outputs": [
    {
     "name": "stdout",
     "output_type": "stream",
     "text": [
      "625712927.50\n",
      "5002700720.00\n",
      "40009600960.00\n",
      "135018900840.00\n"
     ]
    }
   ],
   "source": [
    "def f(n, p):\n",
    "    return n*p*(1-p)*(1-2*p)+3*g(n, p)*n*p + 2*n**3*p**3\n",
    "for p in [0.05, 0.1, 0.2, 0.3]:\n",
    "    print(f\"{f(10000, p):.2f}\")"
   ]
  },
  {
   "cell_type": "markdown",
   "metadata": {},
   "source": [
    "### Question 3 - Rent distributions in Randomistan"
   ]
  },
  {
   "cell_type": "markdown",
   "metadata": {},
   "source": [
    "The state of Randomistan conducted a survey to study the distribution of rent paid in two neighboring towns, Stochastic Heights and Random Grove, to be denoted SH and RG.<br> \n",
    "The population of SH and RG is 12K and 18K respectively. <br>\n",
    "Here are some findings of the survey:\n",
    "* The mean rent in SH and RG is 5100RCU and 3700RCU respectively.\n",
    "* The median rent is 4000RCU in both towns.\n",
    "* The IQR of the rent is smaller in SH than in RG.\n",
    "\n",
    "All data generated in this question needs to be consistent with these findings."
   ]
  },
  {
   "cell_type": "markdown",
   "metadata": {},
   "source": [
    "#### 3.A\n",
    "Draw histograms that describe 2 different scenarii of possible distributions of rent in the two towns.\u000b",
    "Your histograms should:<br>\n",
    "* Use bins of 100RCU each.\n",
    "* Have at least 10 non zero bins."
   ]
  },
  {
   "cell_type": "code",
   "execution_count": 352,
   "metadata": {},
   "outputs": [],
   "source": [
    "from scipy.stats import iqr\n",
    "def print_stats(x, name):\n",
    "    print(f\"{name} len {len(x)} mean {np.mean(x):.2f} median {np.median(x)} iqr {iqr(x)} var {np.var(x)}\")"
   ]
  },
  {
   "cell_type": "code",
   "execution_count": 353,
   "metadata": {},
   "outputs": [],
   "source": [
    "def uniform(median, width, n):\n",
    "    x = np.arange(median-width/2, median+width/2, width/10)\n",
    "    offset = median - np.median(x)\n",
    "    x += offset\n",
    "    return np.repeat(x, int(n/10))"
   ]
  },
  {
   "cell_type": "code",
   "execution_count": 354,
   "metadata": {},
   "outputs": [],
   "source": [
    "def fix_mean(x, desired_mean, desired_n, alpha=1.5):\n",
    "    #des_mean*des_n = cur_mean*cur_n + lump_n*(median+a) + lump_n*(median+b)\n",
    "    #(des_mean*des_n - cur_mean*cur_n)/lump_n - 2*median = a+b\n",
    "    current_mean = np.mean(x)\n",
    "    current_median = np.median(x)\n",
    "    current_n = len(x)\n",
    "    lump_n = (desired_n - current_n) // 2\n",
    "    s = (desired_mean*desired_n - current_mean*current_n)/lump_n - 2*current_median\n",
    "    a, b = alpha*s, (1-alpha)*s\n",
    "    a_lump = uniform(a+current_median, lump_n/10, lump_n)\n",
    "    b_lump = uniform(b+current_median, lump_n/10, lump_n)\n",
    "    return np.append(np.append(x, a_lump), b_lump)"
   ]
  },
  {
   "cell_type": "code",
   "execution_count": 355,
   "metadata": {},
   "outputs": [],
   "source": [
    "import matplotlib.pyplot as plt\n",
    "def plot_them(sh, rg):\n",
    "    binwidth=100\n",
    "    all_data = np.concatenate([sh, rg])\n",
    "    bins = np.arange(min(sh), max(sh) + binwidth, binwidth)\n",
    "    plt.hist(sh, bins=bins, alpha=0.5, label='sh')\n",
    "    plt.hist(rg, bins=bins, alpha=0.5, label='rg')\n",
    "    plt.legend()\n",
    "    plt.show()"
   ]
  },
  {
   "cell_type": "code",
   "execution_count": 356,
   "metadata": {},
   "outputs": [],
   "source": [
    "def do_it(main_lump=0.8, alpha_sh=1.5, alpha_rg=1.5):\n",
    "    sh = uniform(4000, 1000, int(12000*main_lump))\n",
    "    rg = uniform(4000, 1500, int(18000*main_lump))\n",
    "\n",
    "    sh = fix_mean(sh, 5100, 12000, alpha=alpha_sh)\n",
    "    rg = fix_mean(rg, 3700, 18000, alpha=alpha_rg)\n",
    "    print_stats(sh, \"sh\")\n",
    "    print_stats(rg, \"rg\")\n",
    "    plot_them(sh, rg)\n"
   ]
  },
  {
   "cell_type": "code",
   "execution_count": 357,
   "metadata": {},
   "outputs": [
    {
     "name": "stdout",
     "output_type": "stream",
     "text": [
      "sh len 12000 mean 5100.00 median 4000.0 iqr 700.0 var 29106237.6\n",
      "rg len 18000 mean 3700.00 median 4000.0 iqr 1050.0 var 2309034.6\n"
     ]
    },
    {
     "data": {
      "image/png": "[encoded data removed]",
      "text/plain": [
       "<Figure size 432x288 with 1 Axes>"
      ]
     },
     "metadata": {
      "needs_background": "light"
     },
     "output_type": "display_data"
    }
   ],
   "source": [
    "do_it(main_lump=0.8)"
   ]
  },
  {
   "cell_type": "code",
   "execution_count": 358,
   "metadata": {},
   "outputs": [
    {
     "name": "stdout",
     "output_type": "stream",
     "text": [
      "sh len 12000 mean 5100.00 median 4000.0 iqr 2807.5 var 10934962.5\n",
      "rg len 18000 mean 3700.00 median 4000.0 iqr 1430.625 var 911165.625\n"
     ]
    },
    {
     "data": {
      "image/png": "[encoded data removed]",
      "text/plain": [
       "<Figure size 432x288 with 1 Axes>"
      ]
     },
     "metadata": {
      "needs_background": "light"
     },
     "output_type": "display_data"
    }
   ],
   "source": [
    "do_it(main_lump=0.5)"
   ]
  },
  {
   "cell_type": "markdown",
   "metadata": {},
   "source": [
    "#### 3.B\n",
    "Draw a histogram of a third scenario with the same properties. <br>\n",
    "In addition, in this scenario the rent in SH should have a higher variance than the rent in RG "
   ]
  },
  {
   "cell_type": "code",
   "execution_count": 359,
   "metadata": {},
   "outputs": [
    {
     "name": "stdout",
     "output_type": "stream",
     "text": [
      "sh len 12000 mean 5100.00 median 4000.0 iqr 900.0 var 13966400.8\n",
      "rg len 18000 mean 3700.00 median 4000.0 iqr 1263.0 var 1150651.8\n"
     ]
    },
    {
     "data": {
      "image/png": "[encoded data removed]",
      "text/plain": [
       "<Figure size 432x288 with 1 Axes>"
      ]
     },
     "metadata": {
      "needs_background": "light"
     },
     "output_type": "display_data"
    }
   ],
   "source": [
    "do_it(main_lump=0.6)"
   ]
  },
  {
   "cell_type": "markdown",
   "metadata": {},
   "source": [
    "The survey also examined the per household income (PHI) in these two places.<br>\n",
    "It found that:<br>\n",
    "* The mean of PHI in SH is 12500 and in RG is 8500\n",
    "* The median is 12000 in SH and 8000 in RG\n",
    "* The covariance of the rent and the PHI was observed to be as in the formula below with $\\alpha=97\\%$ and $\\alpha=89\\%$ in SH and in RG respectively.<br><br>\n",
    "$$Cov(rent, PHI) = \\alpha * \\sqrt{Var(rent)} * \\sqrt{Var(PHI)}$$\n",
    "\n",
    "#### 3.C\n",
    "Produce rent and PHI data for the two cities, that is consistent with these findings. The covariances in your data can deviate by up to 1% from the numbers given $\\alpha$."
   ]
  },
  {
   "cell_type": "code",
   "execution_count": 431,
   "metadata": {},
   "outputs": [
    {
     "name": "stdout",
     "output_type": "stream",
     "text": [
      "sh_phi len 12000 mean 12500.00 median 12000.0 iqr 2100.0 var 4437218.566666666\n",
      "rg_phi len 18000 mean 8500.00 median 8000.0 iqr 1400.0 var 4149470.941666664\n"
     ]
    },
    {
     "name": "stderr",
     "output_type": "stream",
     "text": [
      "/Users/hadanny/ws/stat3620/venv/lib/python3.7/site-packages/ipykernel_launcher.py:21: RuntimeWarning: invalid value encountered in double_scalars\n"
     ]
    },
    {
     "name": "stdout",
     "output_type": "stream",
     "text": [
      "alpha 0.9713050420889751\n",
      "alpha 0.8932472689651819\n"
     ]
    }
   ],
   "source": [
    "def gen_distrib(n, mean, median):\n",
    "    x = uniform(median, median/4, int(n*0.7))\n",
    "    x = fix_mean(x, mean, n, alpha=1.5)\n",
    "    return x\n",
    "    \n",
    "sh_phi = gen_distrib(12000, 12500, 12000)\n",
    "rg_phi = gen_distrib(18000, 8500, 8000)\n",
    "\n",
    "print_stats(sh_phi, \"sh_phi\")\n",
    "print_stats(rg_phi, \"rg_phi\")\n",
    "\n",
    "def make_rent(phi, beta):\n",
    "    meani = np.mean(phi)\n",
    "    return np.array(\n",
    "        [x if idx < beta*len(phi) else meani for idx, x in enumerate(phi)])\n",
    "\n",
    "def find_alpha_rent(phi, required_alpha):\n",
    "    for beta in np.arange(0, 1, 0.01):\n",
    "        rent = make_rent(phi, beta)\n",
    "        cov = np.cov(phi, rent)[0,1]\n",
    "        alpha = cov/np.sqrt(np.var(phi)*np.var(rent))\n",
    "        if alpha >= required_alpha:\n",
    "            print(f\"alpha {alpha}\")\n",
    "            return rent\n",
    "\n",
    "sh_rent = find_alpha_rent(sh_phi, 0.97)\n",
    "rg_rent = find_alpha_rent(rg_phi, 0.89)\n"
   ]
  },
  {
   "cell_type": "markdown",
   "metadata": {},
   "source": [
    "#### 3.D\n",
    "Produce two heatmaps that describe these two bivariate joint distributions. Make sure you carefully consider the selcted bining resolution."
   ]
  },
  {
   "cell_type": "code",
   "execution_count": 443,
   "metadata": {},
   "outputs": [
    {
     "data": {
      "image/png": "[encoded data removed]",
      "text/plain": [
       "<Figure size 432x288 with 2 Axes>"
      ]
     },
     "metadata": {
      "needs_background": "light"
     },
     "output_type": "display_data"
    }
   ],
   "source": [
    "plt.subplot(1,2,1)\n",
    "plt.hist2d(sh_phi, sh_rent, bins=30, cmap='plasma')\n",
    "plt.subplot(1,2,2)\n",
    "plt.hist2d(rg_phi, rg_rent, bins=30, cmap='plasma')\n",
    "plt.show()"
   ]
  },
  {
   "cell_type": "markdown",
   "metadata": {},
   "source": [
    "### Question 4 - Covariance and independence"
   ]
  },
  {
   "cell_type": "markdown",
   "metadata": {},
   "source": [
    "#### 4.A\n",
    "Define two random variables X and Y over the same probability space so that<br>\n",
    "* E(X) = the sum of digits of the date you were born on (sum of all in DD/MM/YYYY)\n",
    "* E(Y) = the sum of the two last digits of your id number\n",
    "\n",
    "And so that X and Y are:\n",
    "* NOT correlated (Cov(X,Y) = 0) and NOT independent."
   ]
  },
  {
   "cell_type": "code",
   "execution_count": 489,
   "metadata": {},
   "outputs": [
    {
     "name": "stdout",
     "output_type": "stream",
     "text": [
      "32 15 480\n"
     ]
    }
   ],
   "source": [
    "my_bdate = '06111977'\n",
    "my_id = '034537969'\n",
    "e_x = sum([int(c) for c in my_bdate])\n",
    "e_y = sum([int(c) for c in my_id[-2:]])\n",
    "print(e_x, e_y, e_x*e_y)\n"
   ]
  },
  {
   "cell_type": "code",
   "execution_count": 490,
   "metadata": {},
   "outputs": [
    {
     "data": {
      "text/html": [
       "<div>\n",
       "<style scoped>\n",
       "    .dataframe tbody tr th:only-of-type {\n",
       "        vertical-align: middle;\n",
       "    }\n",
       "\n",
       "    .dataframe tbody tr th {\n",
       "        vertical-align: top;\n",
       "    }\n",
       "\n",
       "    .dataframe thead th {\n",
       "        text-align: right;\n",
       "    }\n",
       "</style>\n",
       "<table border=\"1\" class=\"dataframe\">\n",
       "  <thead>\n",
       "    <tr style=\"text-align: right;\">\n",
       "      <th></th>\n",
       "      <th>x</th>\n",
       "      <th>y</th>\n",
       "      <th>p</th>\n",
       "    </tr>\n",
       "  </thead>\n",
       "  <tbody>\n",
       "    <tr>\n",
       "      <th>0</th>\n",
       "      <td>-1.0</td>\n",
       "      <td>0</td>\n",
       "      <td>0.066667</td>\n",
       "    </tr>\n",
       "    <tr>\n",
       "      <th>1</th>\n",
       "      <td>1.0</td>\n",
       "      <td>0</td>\n",
       "      <td>0.066667</td>\n",
       "    </tr>\n",
       "    <tr>\n",
       "      <th>2</th>\n",
       "      <td>0.0</td>\n",
       "      <td>45</td>\n",
       "      <td>0.066667</td>\n",
       "    </tr>\n",
       "    <tr>\n",
       "      <th>3</th>\n",
       "      <td>40.0</td>\n",
       "      <td>15</td>\n",
       "      <td>0.800000</td>\n",
       "    </tr>\n",
       "  </tbody>\n",
       "</table>\n",
       "</div>"
      ],
      "text/plain": [
       "      x   y         p\n",
       "0  -1.0   0  0.066667\n",
       "1   1.0   0  0.066667\n",
       "2   0.0  45  0.066667\n",
       "3  40.0  15  0.800000"
      ]
     },
     "execution_count": 490,
     "metadata": {},
     "output_type": "execute_result"
    }
   ],
   "source": [
    "import pandas as pd\n",
    "p1 = 0.8\n",
    "p2 = 1-0.8\n",
    "p = pd.DataFrame([{\"x\": -1, \"y\": 0, \"p\": p2/3},\n",
    "              {\"x\": 1, \"y\": 0, \"p\": p2/3},\n",
    "              {\"x\": 0, \"y\": e_y*3, \"p\": p2/3},\n",
    "              {\"x\": e_x/p1, \"y\": 15, \"p\": p1},\n",
    "             ])\n",
    "p"
   ]
  },
  {
   "cell_type": "code",
   "execution_count": 491,
   "metadata": {},
   "outputs": [
    {
     "name": "stdout",
     "output_type": "stream",
     "text": [
      "480.0 480.0\n"
     ]
    }
   ],
   "source": [
    "e_x = p.apply(lambda x: x['x']*x['p'], axis = 1).sum()\n",
    "e_y = p.apply(lambda x: x['y']*x['p'], axis = 1).sum()\n",
    "e_xy = p.apply(lambda x: x['x']*x['y']*x['p'], axis = 1).sum()\n",
    "\n",
    "print(e_x*e_y, e_xy)"
   ]
  },
  {
   "cell_type": "markdown",
   "metadata": {},
   "source": [
    "#### 4.B\n",
    "Can you define random variables that are independent and so that Cov(X,Y) > 0?<br>\n",
    "Explain.\n"
   ]
  },
  {
   "cell_type": "markdown",
   "metadata": {},
   "source": [
    "no, if they are independent than cov(X,Y)=0"
   ]
  },
  {
   "cell_type": "markdown",
   "metadata": {},
   "source": [
    "### Question 5 - Convolutions"
   ]
  },
  {
   "cell_type": "markdown",
   "metadata": {},
   "source": [
    "#### 5.A\n",
    "Write a program, `Q = NFoldConv(P , n)`, that takes as input:\n",
    "* A distribution, P, of a random variable that takes finitely many integer values\n",
    "* An integer n\n",
    "\n",
    "and produces the distribution, Q, of the sum of n independent repeats of random variables, each of which has the distribution P."
   ]
  },
  {
   "cell_type": "code",
   "execution_count": null,
   "metadata": {},
   "outputs": [],
   "source": []
  },
  {
   "cell_type": "markdown",
   "metadata": {},
   "source": [
    "#### 5.B\n",
    "Compute the distribution of the sum of the results of rolling a fair dice 8 times"
   ]
  },
  {
   "cell_type": "code",
   "execution_count": null,
   "metadata": {},
   "outputs": [],
   "source": []
  },
  {
   "cell_type": "markdown",
   "metadata": {},
   "source": [
    "#### 5.C\n",
    "Assume that the price of a stock changes in any given day according to (in NIS):\n",
    "$$P=\\begin{pmatrix}\n",
    "-1 & 0 & 1 & 2 & 3 \\\\\n",
    "0.2 & 0.25 & 0.35 & 0.05 & 0.15\n",
    "\\end{pmatrix}$$\n",
    "\n",
    "1. What is the distribution of the change in stock after 2 consecutive days of (independent) changes? After 5 consecutive days? "
   ]
  },
  {
   "cell_type": "code",
   "execution_count": null,
   "metadata": {},
   "outputs": [],
   "source": []
  },
  {
   "cell_type": "markdown",
   "metadata": {},
   "source": [
    "2. What is the probability that the stock has gained strictly more than 7NIS after 5 days? \u000b",
    "Has lost strictly more than 7NIS?"
   ]
  },
  {
   "cell_type": "code",
   "execution_count": null,
   "metadata": {},
   "outputs": [],
   "source": []
  },
  {
   "cell_type": "markdown",
   "metadata": {},
   "source": [
    "### Question 6 - Poisson mode"
   ]
  },
  {
   "cell_type": "markdown",
   "metadata": {},
   "source": [
    "Let $X\\sim{}Poi(λ)$<br>\n",
    "#### 6.A\n",
    "Find the mode of X and prove your calculation."
   ]
  },
  {
   "cell_type": "code",
   "execution_count": null,
   "metadata": {},
   "outputs": [],
   "source": []
  },
  {
   "cell_type": "markdown",
   "metadata": {},
   "source": [
    "#### 6.B\n",
    "Plot the pdf of $X$ for $\\lambda=4, \\lambda=9.3, \\lambda=25.8$.<br>\n",
    "Show the following quantities on your plots:\n",
    "* The mode of $X$\n",
    "* The median of $X$\n",
    "* $\\mu(X)$"
   ]
  },
  {
   "cell_type": "code",
   "execution_count": null,
   "metadata": {},
   "outputs": [],
   "source": []
  }
 ],
 "metadata": {
  "kernelspec": {
   "display_name": "venv",
   "language": "python",
   "name": "venv"
  },
  "language_info": {
   "codemirror_mode": {
    "name": "ipython",
    "version": 3
   },
   "file_extension": ".py",
   "mimetype": "text/x-python",
   "name": "python",
   "nbconvert_exporter": "python",
   "pygments_lexer": "ipython3",
   "version": "3.7.3"
  }
 },
 "nbformat": 4,
 "nbformat_minor": 2
}
