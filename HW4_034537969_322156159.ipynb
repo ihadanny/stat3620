{
 "cells": [
  {
   "cell_type": "markdown",
   "metadata": {},
   "source": [
    "# HW4 – Statistics and Data Analysis\n",
    "## Differential Gene Expression in Acute Myocardial Infraction \n",
    "\n",
    "Ido Hadanny\n",
    "ID 034537969\n",
    "\n",
    "Ilia Kohanovsky\n",
    "ID 322156159"
   ]
  },
  {
   "cell_type": "markdown",
   "metadata": {},
   "source": [
    "## 1.\tIntroduction\n",
    "Gene expression describes the process in which genes that are coded in the DNA of living organisms are transcribed into mRNA.  \n",
    "This is part of the bigger process in which genes are being copied (transcribed), processed, translated and modified into the final product, usually a protein.  \n",
    "Gene expression profiling measures the levels at which mRNA molecules pertaining to the genes profiled are observed in a sample.  \n",
    "\n",
    "In this exercise, we will perform guided analysis, comparing expression profiles of circulating endothelial cells (CECs) in patients with acute myocardial infraction to CECs in healthy controls.  \n",
    "A comparison of two sample classes. You will then select one more gene expression dataset and perform your own analysis there.  \n"
   ]
  },
  {
   "cell_type": "markdown",
   "metadata": {},
   "source": [
    "## 2.\tThe Data Set\n",
    "The data set was taken from:  \n",
    "1)\tDataset record in NCBI:  \n",
    "https://www.ncbi.nlm.nih.gov/geo/query/acc.cgi?acc=GSE66360  \n",
    "\n",
    "2)\tPublished paper: Muse et al, Sci Rep 2017   \n",
    "https://www.nature.com/articles/s41598-017-12166-0  \n",
    "\n",
    "3)  Dowload:  \n",
    "We extracted the data matrix and provide it as a separate csv attachment   \n",
    "https://drive.google.com/file/d/1-mu1J2wnlDIVNzoCXw20jJQ9r-h1jGrZ/view) \n",
    "\n",
    "<br>\n",
    "\n",
    "The csv file needs to be pre-processed before moving to the main analysis steps.  \n",
    "Some information should be removed but make sure that you keep all information that is important for the analysis.  \n",
    "The paper describes a study that seeks to develop an expression-based signature that can detect AMI in patients in a non-invasive manner, by profiling CECs. \n"
   ]
  },
  {
   "cell_type": "code",
   "execution_count": 1,
   "metadata": {},
   "outputs": [],
   "source": [
    "import pandas as pd\n",
    "import math\n",
    "from scipy.stats import *\n",
    "import matplotlib.pyplot as plt"
   ]
  },
  {
   "cell_type": "code",
   "execution_count": 2,
   "metadata": {},
   "outputs": [
    {
     "name": "stderr",
     "output_type": "stream",
     "text": [
      "/Users/adsurbum/anaconda2/envs/py371/lib/python3.7/site-packages/IPython/core/interactiveshell.py:3049: DtypeWarning: Columns (1,2,3,4,5,6,7,8,9,10,11,12,13,14,15,16,17,18,19,20,21,22,23,24,25,26,27,28,29,30,31,32,33,34,35,36,37,38,39,40,41,42,43,44,45,46,47,48,49,50,51,52,53,54,55,56,57,58,59,60,61,62,63,64,65,66,67,68,69,70,71,72,73,74,75,76,77,78,79,80,81,82,83,84,85,86,87,88,89,90,91,92,93,94,95,96,97,98,99) have mixed types. Specify dtype option on import or set low_memory=False.\n",
      "  interactivity=interactivity, compiler=compiler, result=result)\n"
     ]
    }
   ],
   "source": [
    "data = pd.read_csv('AMI_GSE66360_series_matrix_no_metadata.csv')\n",
    "data = data[1:]\n",
    "data = data.set_index('Class')"
   ]
  },
  {
   "cell_type": "code",
   "execution_count": 3,
   "metadata": {},
   "outputs": [
    {
     "data": {
      "text/html": [
       "<div>\n",
       "<style scoped>\n",
       "    .dataframe tbody tr th:only-of-type {\n",
       "        vertical-align: middle;\n",
       "    }\n",
       "\n",
       "    .dataframe tbody tr th {\n",
       "        vertical-align: top;\n",
       "    }\n",
       "\n",
       "    .dataframe thead th {\n",
       "        text-align: right;\n",
       "    }\n",
       "</style>\n",
       "<table border=\"1\" class=\"dataframe\">\n",
       "  <thead>\n",
       "    <tr style=\"text-align: right;\">\n",
       "      <th></th>\n",
       "      <th>H</th>\n",
       "      <th>H.1</th>\n",
       "      <th>H.2</th>\n",
       "      <th>H.3</th>\n",
       "      <th>H.4</th>\n",
       "      <th>H.5</th>\n",
       "      <th>H.6</th>\n",
       "      <th>H.7</th>\n",
       "      <th>H.8</th>\n",
       "      <th>H.9</th>\n",
       "      <th>...</th>\n",
       "      <th>M.39</th>\n",
       "      <th>M.40</th>\n",
       "      <th>M.41</th>\n",
       "      <th>M.42</th>\n",
       "      <th>M.43</th>\n",
       "      <th>M.44</th>\n",
       "      <th>M.45</th>\n",
       "      <th>M.46</th>\n",
       "      <th>M.47</th>\n",
       "      <th>M.48</th>\n",
       "    </tr>\n",
       "    <tr>\n",
       "      <th>Class</th>\n",
       "      <th></th>\n",
       "      <th></th>\n",
       "      <th></th>\n",
       "      <th></th>\n",
       "      <th></th>\n",
       "      <th></th>\n",
       "      <th></th>\n",
       "      <th></th>\n",
       "      <th></th>\n",
       "      <th></th>\n",
       "      <th></th>\n",
       "      <th></th>\n",
       "      <th></th>\n",
       "      <th></th>\n",
       "      <th></th>\n",
       "      <th></th>\n",
       "      <th></th>\n",
       "      <th></th>\n",
       "      <th></th>\n",
       "      <th></th>\n",
       "      <th></th>\n",
       "    </tr>\n",
       "  </thead>\n",
       "  <tbody>\n",
       "    <tr>\n",
       "      <th>1007_s_at</th>\n",
       "      <td>5.866377893</td>\n",
       "      <td>4.948736331</td>\n",
       "      <td>5.148384393</td>\n",
       "      <td>5.064418945</td>\n",
       "      <td>5.017832878</td>\n",
       "      <td>5.116153518</td>\n",
       "      <td>5.431328058</td>\n",
       "      <td>5.235270857</td>\n",
       "      <td>5.773528455</td>\n",
       "      <td>6.016415473</td>\n",
       "      <td>...</td>\n",
       "      <td>5.419481538</td>\n",
       "      <td>5.057716465</td>\n",
       "      <td>5.996493392</td>\n",
       "      <td>5.343132759</td>\n",
       "      <td>5.558892254</td>\n",
       "      <td>6.472517225</td>\n",
       "      <td>5.678815851</td>\n",
       "      <td>5.653286378</td>\n",
       "      <td>6.013841046</td>\n",
       "      <td>5.465333944</td>\n",
       "    </tr>\n",
       "    <tr>\n",
       "      <th>1053_at</th>\n",
       "      <td>8.22579012</td>\n",
       "      <td>7.525865369</td>\n",
       "      <td>7.764636529</td>\n",
       "      <td>7.198461482</td>\n",
       "      <td>7.831450258</td>\n",
       "      <td>7.203591859</td>\n",
       "      <td>7.694550756</td>\n",
       "      <td>7.760259212</td>\n",
       "      <td>8.279814404</td>\n",
       "      <td>7.580840863</td>\n",
       "      <td>...</td>\n",
       "      <td>7.226347747</td>\n",
       "      <td>7.105537863</td>\n",
       "      <td>5.354105386</td>\n",
       "      <td>8.271499725</td>\n",
       "      <td>5.96334574</td>\n",
       "      <td>8.261421952</td>\n",
       "      <td>6.925752665</td>\n",
       "      <td>7.918424183</td>\n",
       "      <td>7.442701377</td>\n",
       "      <td>9.225221352</td>\n",
       "    </tr>\n",
       "    <tr>\n",
       "      <th>117_at</th>\n",
       "      <td>6.17973231</td>\n",
       "      <td>6.628137025</td>\n",
       "      <td>5.859151477</td>\n",
       "      <td>5.974135101</td>\n",
       "      <td>6.793079158</td>\n",
       "      <td>6.43522914</td>\n",
       "      <td>6.320546126</td>\n",
       "      <td>6.48359047</td>\n",
       "      <td>6.387779205</td>\n",
       "      <td>6.307065808</td>\n",
       "      <td>...</td>\n",
       "      <td>6.789500767</td>\n",
       "      <td>7.441939912</td>\n",
       "      <td>7.026928573</td>\n",
       "      <td>6.003972814</td>\n",
       "      <td>7.474325713</td>\n",
       "      <td>6.367759272</td>\n",
       "      <td>6.835755831</td>\n",
       "      <td>7.577034915</td>\n",
       "      <td>7.147417202</td>\n",
       "      <td>6.48112813</td>\n",
       "    </tr>\n",
       "    <tr>\n",
       "      <th>121_at</th>\n",
       "      <td>6.179477974</td>\n",
       "      <td>6.58288903</td>\n",
       "      <td>6.602134766</td>\n",
       "      <td>6.545904723</td>\n",
       "      <td>5.911542321</td>\n",
       "      <td>6.28542026</td>\n",
       "      <td>6.562315839</td>\n",
       "      <td>6.345887555</td>\n",
       "      <td>6.27280582</td>\n",
       "      <td>5.971847425</td>\n",
       "      <td>...</td>\n",
       "      <td>6.513436777</td>\n",
       "      <td>6.317522639</td>\n",
       "      <td>7.413453376</td>\n",
       "      <td>6.809103167</td>\n",
       "      <td>5.949091368</td>\n",
       "      <td>6.440978114</td>\n",
       "      <td>6.955883278</td>\n",
       "      <td>6.499215058</td>\n",
       "      <td>6.587065112</td>\n",
       "      <td>6.897590966</td>\n",
       "    </tr>\n",
       "    <tr>\n",
       "      <th>1255_g_at</th>\n",
       "      <td>2.792047952</td>\n",
       "      <td>2.69571445</td>\n",
       "      <td>2.580181122</td>\n",
       "      <td>2.712123845</td>\n",
       "      <td>2.723686912</td>\n",
       "      <td>2.70668403</td>\n",
       "      <td>2.674746672</td>\n",
       "      <td>2.635149735</td>\n",
       "      <td>2.696649177</td>\n",
       "      <td>2.802862883</td>\n",
       "      <td>...</td>\n",
       "      <td>2.924657514</td>\n",
       "      <td>2.714103313</td>\n",
       "      <td>3.635944854</td>\n",
       "      <td>2.710943641</td>\n",
       "      <td>2.979380765</td>\n",
       "      <td>3.73013912</td>\n",
       "      <td>2.914867562</td>\n",
       "      <td>3.013901455</td>\n",
       "      <td>2.729319786</td>\n",
       "      <td>3.151449425</td>\n",
       "    </tr>\n",
       "  </tbody>\n",
       "</table>\n",
       "<p>5 rows × 99 columns</p>\n",
       "</div>"
      ],
      "text/plain": [
       "                     H          H.1          H.2          H.3          H.4  \\\n",
       "Class                                                                        \n",
       "1007_s_at  5.866377893  4.948736331  5.148384393  5.064418945  5.017832878   \n",
       "1053_at     8.22579012  7.525865369  7.764636529  7.198461482  7.831450258   \n",
       "117_at      6.17973231  6.628137025  5.859151477  5.974135101  6.793079158   \n",
       "121_at     6.179477974   6.58288903  6.602134766  6.545904723  5.911542321   \n",
       "1255_g_at  2.792047952   2.69571445  2.580181122  2.712123845  2.723686912   \n",
       "\n",
       "                   H.5          H.6          H.7          H.8          H.9  \\\n",
       "Class                                                                        \n",
       "1007_s_at  5.116153518  5.431328058  5.235270857  5.773528455  6.016415473   \n",
       "1053_at    7.203591859  7.694550756  7.760259212  8.279814404  7.580840863   \n",
       "117_at      6.43522914  6.320546126   6.48359047  6.387779205  6.307065808   \n",
       "121_at      6.28542026  6.562315839  6.345887555   6.27280582  5.971847425   \n",
       "1255_g_at   2.70668403  2.674746672  2.635149735  2.696649177  2.802862883   \n",
       "\n",
       "           ...         M.39         M.40         M.41         M.42  \\\n",
       "Class      ...                                                       \n",
       "1007_s_at  ...  5.419481538  5.057716465  5.996493392  5.343132759   \n",
       "1053_at    ...  7.226347747  7.105537863  5.354105386  8.271499725   \n",
       "117_at     ...  6.789500767  7.441939912  7.026928573  6.003972814   \n",
       "121_at     ...  6.513436777  6.317522639  7.413453376  6.809103167   \n",
       "1255_g_at  ...  2.924657514  2.714103313  3.635944854  2.710943641   \n",
       "\n",
       "                  M.43         M.44         M.45         M.46         M.47  \\\n",
       "Class                                                                        \n",
       "1007_s_at  5.558892254  6.472517225  5.678815851  5.653286378  6.013841046   \n",
       "1053_at     5.96334574  8.261421952  6.925752665  7.918424183  7.442701377   \n",
       "117_at     7.474325713  6.367759272  6.835755831  7.577034915  7.147417202   \n",
       "121_at     5.949091368  6.440978114  6.955883278  6.499215058  6.587065112   \n",
       "1255_g_at  2.979380765   3.73013912  2.914867562  3.013901455  2.729319786   \n",
       "\n",
       "                  M.48  \n",
       "Class                   \n",
       "1007_s_at  5.465333944  \n",
       "1053_at    9.225221352  \n",
       "117_at      6.48112813  \n",
       "121_at     6.897590966  \n",
       "1255_g_at  3.151449425  \n",
       "\n",
       "[5 rows x 99 columns]"
      ]
     },
     "execution_count": 3,
     "metadata": {},
     "output_type": "execute_result"
    }
   ],
   "source": [
    "data.head()"
   ]
  },
  {
   "cell_type": "markdown",
   "metadata": {},
   "source": [
    "## 3.\tAnalysis"
   ]
  },
  {
   "cell_type": "markdown",
   "metadata": {},
   "source": [
    "### a. High level description of the data and some pre-processing\n",
    "1. How many genes profiled? \n",
    "2. How many samples (subjects/patients) in total?\n",
    "3. How many samples in each class?\n",
    "4. If there are missing values, then remove the entire row (gene) from the data matrix. How many rows left now?"
   ]
  },
  {
   "cell_type": "code",
   "execution_count": 4,
   "metadata": {},
   "outputs": [
    {
     "data": {
      "text/plain": [
       "(54675, 99)"
      ]
     },
     "execution_count": 4,
     "metadata": {},
     "output_type": "execute_result"
    }
   ],
   "source": [
    "data.shape"
   ]
  },
  {
   "cell_type": "markdown",
   "metadata": {},
   "source": [
    "55K genes were profiled for 99 patients"
   ]
  },
  {
   "cell_type": "code",
   "execution_count": 5,
   "metadata": {},
   "outputs": [
    {
     "data": {
      "text/plain": [
       "(50, 49)"
      ]
     },
     "execution_count": 5,
     "metadata": {},
     "output_type": "execute_result"
    }
   ],
   "source": [
    "healthy = [c for c in data.columns if c.startswith('H')]\n",
    "ami = [c for c in data.columns if c.startswith('M')]\n",
    "len(healthy), len(ami)"
   ]
  },
  {
   "cell_type": "markdown",
   "metadata": {},
   "source": [
    "50 healthy patients vs. 49 AMI patients"
   ]
  },
  {
   "cell_type": "code",
   "execution_count": 6,
   "metadata": {},
   "outputs": [
    {
     "data": {
      "text/plain": [
       "54628"
      ]
     },
     "execution_count": 6,
     "metadata": {},
     "output_type": "execute_result"
    }
   ],
   "source": [
    "sum(~data.T.isnull().any())"
   ]
  },
  {
   "cell_type": "code",
   "execution_count": 7,
   "metadata": {},
   "outputs": [
    {
     "data": {
      "text/plain": [
       "(54628, 99)"
      ]
     },
     "execution_count": 7,
     "metadata": {},
     "output_type": "execute_result"
    }
   ],
   "source": [
    "data = data[~data.T.isnull().any()]\n",
    "data.shape"
   ]
  },
  {
   "cell_type": "code",
   "execution_count": 8,
   "metadata": {},
   "outputs": [
    {
     "data": {
      "text/plain": [
       "47"
      ]
     },
     "execution_count": 8,
     "metadata": {},
     "output_type": "execute_result"
    }
   ],
   "source": [
    "54675-54628"
   ]
  },
  {
   "cell_type": "markdown",
   "metadata": {},
   "source": [
    "47 genes removed as they had null values"
   ]
  },
  {
   "cell_type": "markdown",
   "metadata": {},
   "source": [
    "### b. WRS for differential expression (DE)\n",
    "1. Consider some gene, g. Under the null model (which assumes that for g there is no M vs H DE), what is the expected sum of ranks of g’s expression levels measured for samples labeled M?\n",
    "2. Denote this sum of ranks by RS(g). What is the minimal value, m, that RS(g) can take?\n",
    "3. Under the null model, what is the probability of RS(g) = m? (provide a formula for this and explain it)\n",
    "4. Under the null model, what is the probability of RS(g) = m+1? what is the probability of RS(g) = m+2? (provide formulas and explain them)\n",
    "5. Draw a histogram of the values of RS(g) in the dataset. Here g ranges over all genes in the data (after the clean-up)"
   ]
  },
  {
   "cell_type": "code",
   "execution_count": 9,
   "metadata": {},
   "outputs": [
    {
     "data": {
      "text/plain": [
       "(2450.0, 1225.0)"
      ]
     },
     "execution_count": 9,
     "metadata": {},
     "output_type": "execute_result"
    }
   ],
   "source": [
    "E = 49*(99+1)/2\n",
    "m = 49*(49+1)/2\n",
    "E, m"
   ]
  },
  {
   "cell_type": "markdown",
   "metadata": {},
   "source": [
    "$E(RS_g)=2450$\n",
    "\n",
    "$min(RS_g)=1225$"
   ]
  },
  {
   "cell_type": "code",
   "execution_count": 10,
   "metadata": {},
   "outputs": [
    {
     "data": {
      "text/plain": [
       "1.9823306042836678e-29"
      ]
     },
     "execution_count": 10,
     "metadata": {},
     "output_type": "execute_result"
    }
   ],
   "source": [
    "1/(math.factorial(99)/(math.factorial(49)*math.factorial(50)))"
   ]
  },
  {
   "cell_type": "markdown",
   "metadata": {},
   "source": [
    "$P(RS_g=m)=P(RS_g=m+1)=2*10^{-29}$\n",
    "\n",
    "$P(RS_g=m+2)=4*10^{-29}$\n",
    "\n",
    "this is because under the null model there is no difference between the 2 classes and every permutation is equally likely. Note that we don't care about the internal ordering of the patients within each class.\n",
    "\n",
    "When $RS_g=m$ there is only one possible permutation that satistfy the sum rank: {1,2,..,49}.\n",
    "\n",
    "When $RS_g=m+1$ there is also only one possible permutation that satistfy the rank: {1,2,..,47,48,50}.\n",
    "\n",
    "When $RS_g=m+2$ there are two possible permutation that satistfy the rank: {1,2,..,47,48,51} and {1,2,..,46,47,49,50}."
   ]
  },
  {
   "cell_type": "code",
   "execution_count": 11,
   "metadata": {},
   "outputs": [],
   "source": [
    "sd = (49*(99-49)*(99+1)/12)**0.5\n",
    "RS = [E+sd*ranksums(a,h).statistic for a, h in zip(\n",
    "    data[ami].values.astype(float), data[healthy].values.astype(float))]"
   ]
  },
  {
   "cell_type": "code",
   "execution_count": 12,
   "metadata": {},
   "outputs": [
    {
     "data": {
      "image/png": "[encoded data removed]",
      "text/plain": [
       "<Figure size 432x288 with 1 Axes>"
      ]
     },
     "metadata": {
      "image/png": {
       "height": 250,
       "width": 383
      },
      "needs_background": "light"
     },
     "output_type": "display_data"
    }
   ],
   "source": [
    "plt.hist(RS, bins=50)\n",
    "plt.show()"
   ]
  },
  {
   "cell_type": "markdown",
   "metadata": {},
   "source": [
    "### c. Differential Expression\n",
    "The purpose is to determine the statistical significance of differential expression (DE) observed for each gene in H vs M.  \n",
    "Evaluate the DE in both one-sided directions for every gene, using both Student t-test and WRS test.   \n",
    "Report the number of genes overexpressed in M vs H at a p-value better (≤) than 0.05 and separately genes underexpressed in M vs H at a p-value of 0.05. For both directions use both a Student t-test and a WRS test.  "
   ]
  },
  {
   "cell_type": "code",
   "execution_count": 19,
   "metadata": {},
   "outputs": [
    {
     "name": "stdout",
     "output_type": "stream",
     "text": [
      "WRS test #overexpressed: 9019\n",
      "WRS test #underexpressed: 9476\n"
     ]
    }
   ],
   "source": [
    "wrs = [ranksums(a,h) for a, h in zip(data[ami].values.astype(float),\n",
    "                                     data[healthy].values.astype(float))]\n",
    "wrs_over = [w for w in wrs if w.statistic>0 and w.pvalue/2<0.05]\n",
    "wrs_under = [w for w in wrs if w.statistic<0 and w.pvalue/2<0.05]\n",
    "print('WRS test #overexpressed:',len(wrs_over))\n",
    "print('WRS test #underexpressed:',len(wrs_under))"
   ]
  },
  {
   "cell_type": "code",
   "execution_count": 116,
   "metadata": {},
   "outputs": [
    {
     "name": "stdout",
     "output_type": "stream",
     "text": [
      "Student t-test #overexpressed: 7067\n",
      "Student t-test #underexpressed: 7467\n"
     ]
    }
   ],
   "source": [
    "ttest = [ttest_ind(a,h) for a, h in zip(data[ami].values.astype(float),\n",
    "                                        data[healthy].values.astype(float))]\n",
    "ttest_over = [w for w in ttest if w.statistic>0 and w.pvalue/2<0.05]\n",
    "ttest_under = [w for w in ttest if w.statistic<0 and w.pvalue/2<0.05]\n",
    "print('Student t-test #overexpressed:',len(ttest_over))\n",
    "print('Student t-test #underexpressed:',len(ttest_under))"
   ]
  },
  {
   "cell_type": "markdown",
   "metadata": {},
   "source": [
    "### d. Correlations\n",
    "Select the 60 most significant genes from each one of the one-sided WRS DE lists you computed in 3c. Generate a set of 120 genes, D, which is the union of the above two sets.  \n",
    "Compute Spearman rho correlations in all pairs within D (120 choose 2 numbers).   \n",
    "\n",
    "1. What can you report about co-expression of genes in D (co-expression is inferred from the correlation of the expression levels of genes, across a set of samples)? Do we observe any significant co-expression? If so how many pairs, etc.\n",
    "2. What would have been advantages and disadvantages of computing co-expression for all genes in the study rather than only for genes in D? \n",
    "3. Perform the above steps on the same set D, but restrict attention only to samples labeled M. What do you see now? Can you explain this?"
   ]
  },
  {
   "cell_type": "code",
   "execution_count": 52,
   "metadata": {},
   "outputs": [],
   "source": [
    "#calculate D\n",
    "dwrs = pd.DataFrame(wrs)\n",
    "\n",
    "smallest = dwrs[dwrs.statistic>0].nsmallest(60,'pvalue')\n",
    "over = data.iloc[smallest.index]\n",
    "smallest = dwrs[dwrs.statistic<0].nsmallest(60,'pvalue')\n",
    "under = data.iloc[smallest.index]\n",
    "\n",
    "D = over.append(under)"
   ]
  },
  {
   "cell_type": "code",
   "execution_count": 30,
   "metadata": {},
   "outputs": [],
   "source": [
    "corr = D.transpose().astype(float).corr(method='spearman')\n",
    "del corr.index.name"
   ]
  },
  {
   "cell_type": "code",
   "execution_count": 31,
   "metadata": {},
   "outputs": [
    {
     "name": "stdout",
     "output_type": "stream",
     "text": [
      "Number of pairs: 7140\n"
     ]
    }
   ],
   "source": [
    "def flatten_corr(corr):\n",
    "    sig_corr = corr.stack().reset_index()\n",
    "    sig_corr.columns = ['gen_a', 'gen_b', 'my_corr']\n",
    "    sig_corr = sig_corr.query('gen_a < gen_b').sort_values('my_corr')\n",
    "    return sig_corr\n",
    "def p_value(row):\n",
    "    a = D.loc[row['gen_a']].values\n",
    "    b = D.loc[row['gen_b']].values\n",
    "    return spearmanr(a,b)[1]\n",
    "\n",
    "sigcorr = flatten_corr(corr)\n",
    "sigcorr['p_value'] = sigcorr.apply(p_value,axis=1)\n",
    "print('Number of pairs:', len(sigcorr))\n"
   ]
  },
  {
   "cell_type": "code",
   "execution_count": 32,
   "metadata": {},
   "outputs": [
    {
     "name": "stdout",
     "output_type": "stream",
     "text": [
      "pairs with correlation p_value<0.05: 6768\n"
     ]
    }
   ],
   "source": [
    "sigcorr = sigcorr[sigcorr['p_value']<0.05]\n",
    "print('pairs with correlation p_value<0.05:',len(sigcorr))"
   ]
  },
  {
   "cell_type": "code",
   "execution_count": 27,
   "metadata": {},
   "outputs": [
    {
     "name": "stdout",
     "output_type": "stream",
     "text": [
      "significant correlations with abs correlation >0.6:  1971\n",
      "significant correlations with positive correlation >0.6:  1915\n",
      "significant correlations with positive correlation >0.7:  891\n",
      "significant correlations with positive correlation >0.8:  188\n",
      "significant correlations with positive correlation >0.9:  12\n"
     ]
    }
   ],
   "source": [
    "print('significant correlations with abs correlation >0.6: ',len(sigcorr[abs(sigcorr['my_corr']) > 0.6]))\n",
    "print('significant correlations with positive correlation >0.6: ',len(sigcorr[sigcorr['my_corr'] > 0.6]))\n",
    "print('significant correlations with positive correlation >0.7: ',len(sigcorr[sigcorr['my_corr'] > 0.7]))\n",
    "print('significant correlations with positive correlation >0.8: ',len(sigcorr[sigcorr['my_corr'] > 0.8]))\n",
    "print('significant correlations with positive correlation >0.9: ',len(sigcorr[sigcorr['my_corr'] > 0.9]))"
   ]
  },
  {
   "cell_type": "code",
   "execution_count": 355,
   "metadata": {},
   "outputs": [
    {
     "data": {
      "text/plain": [
       "<matplotlib.axes._subplots.AxesSubplot at 0x14a4742e8>"
      ]
     },
     "execution_count": 355,
     "metadata": {},
     "output_type": "execute_result"
    },
    {
     "data": {
      "image/png": "[encoded data removed]",
      "text/plain": [
       "<Figure size 432x288 with 1 Axes>"
      ]
     },
     "metadata": {
      "image/png": {
       "height": 250,
       "width": 383
      },
      "needs_background": "light"
     },
     "output_type": "display_data"
    }
   ],
   "source": [
    "sigcorr['my_corr'].hist()"
   ]
  },
  {
   "cell_type": "code",
   "execution_count": 342,
   "metadata": {},
   "outputs": [
    {
     "name": "stdout",
     "output_type": "stream",
     "text": [
      "top 10 positive correlations:\n"
     ]
    },
    {
     "data": {
      "text/html": [
       "<div>\n",
       "<style scoped>\n",
       "    .dataframe tbody tr th:only-of-type {\n",
       "        vertical-align: middle;\n",
       "    }\n",
       "\n",
       "    .dataframe tbody tr th {\n",
       "        vertical-align: top;\n",
       "    }\n",
       "\n",
       "    .dataframe thead th {\n",
       "        text-align: right;\n",
       "    }\n",
       "</style>\n",
       "<table border=\"1\" class=\"dataframe\">\n",
       "  <thead>\n",
       "    <tr style=\"text-align: right;\">\n",
       "      <th></th>\n",
       "      <th>gen_a</th>\n",
       "      <th>gen_b</th>\n",
       "      <th>my_corr</th>\n",
       "      <th>p_value</th>\n",
       "    </tr>\n",
       "  </thead>\n",
       "  <tbody>\n",
       "    <tr>\n",
       "      <th>7746</th>\n",
       "      <td>218805_at</td>\n",
       "      <td>64064_at</td>\n",
       "      <td>0.980779</td>\n",
       "      <td>1.188865e-70</td>\n",
       "    </tr>\n",
       "    <tr>\n",
       "      <th>3530</th>\n",
       "      <td>204620_s_at</td>\n",
       "      <td>221731_x_at</td>\n",
       "      <td>0.955733</td>\n",
       "      <td>2.455596e-53</td>\n",
       "    </tr>\n",
       "    <tr>\n",
       "      <th>241</th>\n",
       "      <td>204622_x_at</td>\n",
       "      <td>216248_s_at</td>\n",
       "      <td>0.946320</td>\n",
       "      <td>2.257105e-49</td>\n",
       "    </tr>\n",
       "    <tr>\n",
       "      <th>12673</th>\n",
       "      <td>1552320_a_at</td>\n",
       "      <td>1552321_a_at</td>\n",
       "      <td>0.944848</td>\n",
       "      <td>1.586870e-21</td>\n",
       "    </tr>\n",
       "    <tr>\n",
       "      <th>6150</th>\n",
       "      <td>201473_at</td>\n",
       "      <td>201531_at</td>\n",
       "      <td>0.926837</td>\n",
       "      <td>4.709451e-43</td>\n",
       "    </tr>\n",
       "    <tr>\n",
       "      <th>6261</th>\n",
       "      <td>202497_x_at</td>\n",
       "      <td>216236_s_at</td>\n",
       "      <td>0.925863</td>\n",
       "      <td>8.735132e-43</td>\n",
       "    </tr>\n",
       "    <tr>\n",
       "      <th>2779</th>\n",
       "      <td>203821_at</td>\n",
       "      <td>38037_at</td>\n",
       "      <td>0.924774</td>\n",
       "      <td>1.725242e-42</td>\n",
       "    </tr>\n",
       "    <tr>\n",
       "      <th>10426</th>\n",
       "      <td>221937_at</td>\n",
       "      <td>64418_at</td>\n",
       "      <td>0.923772</td>\n",
       "      <td>3.198986e-42</td>\n",
       "    </tr>\n",
       "    <tr>\n",
       "      <th>485</th>\n",
       "      <td>203887_s_at</td>\n",
       "      <td>203888_at</td>\n",
       "      <td>0.921781</td>\n",
       "      <td>1.064874e-41</td>\n",
       "    </tr>\n",
       "    <tr>\n",
       "      <th>9674</th>\n",
       "      <td>201998_at</td>\n",
       "      <td>202741_at</td>\n",
       "      <td>0.909524</td>\n",
       "      <td>9.214875e-39</td>\n",
       "    </tr>\n",
       "  </tbody>\n",
       "</table>\n",
       "</div>"
      ],
      "text/plain": [
       "              gen_a         gen_b   my_corr       p_value\n",
       "7746      218805_at      64064_at  0.980779  1.188865e-70\n",
       "3530    204620_s_at   221731_x_at  0.955733  2.455596e-53\n",
       "241     204622_x_at   216248_s_at  0.946320  2.257105e-49\n",
       "12673  1552320_a_at  1552321_a_at  0.944848  1.586870e-21\n",
       "6150      201473_at     201531_at  0.926837  4.709451e-43\n",
       "6261    202497_x_at   216236_s_at  0.925863  8.735132e-43\n",
       "2779      203821_at      38037_at  0.924774  1.725242e-42\n",
       "10426     221937_at      64418_at  0.923772  3.198986e-42\n",
       "485     203887_s_at     203888_at  0.921781  1.064874e-41\n",
       "9674      201998_at     202741_at  0.909524  9.214875e-39"
      ]
     },
     "execution_count": 342,
     "metadata": {},
     "output_type": "execute_result"
    }
   ],
   "source": [
    "print('top 10 positive correlations:')\n",
    "sigcorr.nlargest(10,'my_corr')"
   ]
  },
  {
   "cell_type": "code",
   "execution_count": 343,
   "metadata": {},
   "outputs": [
    {
     "name": "stdout",
     "output_type": "stream",
     "text": [
      "top 10 negative correlations:\n"
     ]
    },
    {
     "data": {
      "text/html": [
       "<div>\n",
       "<style scoped>\n",
       "    .dataframe tbody tr th:only-of-type {\n",
       "        vertical-align: middle;\n",
       "    }\n",
       "\n",
       "    .dataframe tbody tr th {\n",
       "        vertical-align: top;\n",
       "    }\n",
       "\n",
       "    .dataframe thead th {\n",
       "        text-align: right;\n",
       "    }\n",
       "</style>\n",
       "<table border=\"1\" class=\"dataframe\">\n",
       "  <thead>\n",
       "    <tr style=\"text-align: right;\">\n",
       "      <th></th>\n",
       "      <th>gen_a</th>\n",
       "      <th>gen_b</th>\n",
       "      <th>my_corr</th>\n",
       "      <th>p_value</th>\n",
       "    </tr>\n",
       "  </thead>\n",
       "  <tbody>\n",
       "    <tr>\n",
       "      <th>2143</th>\n",
       "      <td>204621_s_at</td>\n",
       "      <td>223377_x_at</td>\n",
       "      <td>-0.688487</td>\n",
       "      <td>3.404342e-15</td>\n",
       "    </tr>\n",
       "    <tr>\n",
       "      <th>2147</th>\n",
       "      <td>204621_s_at</td>\n",
       "      <td>235304_at</td>\n",
       "      <td>-0.685828</td>\n",
       "      <td>4.780699e-15</td>\n",
       "    </tr>\n",
       "    <tr>\n",
       "      <th>223</th>\n",
       "      <td>216248_s_at</td>\n",
       "      <td>223377_x_at</td>\n",
       "      <td>-0.680989</td>\n",
       "      <td>8.786252e-15</td>\n",
       "    </tr>\n",
       "    <tr>\n",
       "      <th>180</th>\n",
       "      <td>216248_s_at</td>\n",
       "      <td>226423_at</td>\n",
       "      <td>-0.676388</td>\n",
       "      <td>1.550675e-14</td>\n",
       "    </tr>\n",
       "    <tr>\n",
       "      <th>300</th>\n",
       "      <td>204622_x_at</td>\n",
       "      <td>226423_at</td>\n",
       "      <td>-0.675906</td>\n",
       "      <td>1.644862e-14</td>\n",
       "    </tr>\n",
       "    <tr>\n",
       "      <th>2134</th>\n",
       "      <td>204621_s_at</td>\n",
       "      <td>233852_at</td>\n",
       "      <td>-0.660596</td>\n",
       "      <td>1.010631e-13</td>\n",
       "    </tr>\n",
       "    <tr>\n",
       "      <th>2107</th>\n",
       "      <td>204621_s_at</td>\n",
       "      <td>206991_s_at</td>\n",
       "      <td>-0.658596</td>\n",
       "      <td>1.271175e-13</td>\n",
       "    </tr>\n",
       "    <tr>\n",
       "      <th>5516</th>\n",
       "      <td>1568830_at</td>\n",
       "      <td>219532_at</td>\n",
       "      <td>-0.657823</td>\n",
       "      <td>1.388383e-13</td>\n",
       "    </tr>\n",
       "    <tr>\n",
       "      <th>343</th>\n",
       "      <td>204622_x_at</td>\n",
       "      <td>223377_x_at</td>\n",
       "      <td>-0.656574</td>\n",
       "      <td>1.600217e-13</td>\n",
       "    </tr>\n",
       "    <tr>\n",
       "      <th>5506</th>\n",
       "      <td>1568830_at</td>\n",
       "      <td>64418_at</td>\n",
       "      <td>-0.654978</td>\n",
       "      <td>1.916569e-13</td>\n",
       "    </tr>\n",
       "  </tbody>\n",
       "</table>\n",
       "</div>"
      ],
      "text/plain": [
       "            gen_a        gen_b   my_corr       p_value\n",
       "2143  204621_s_at  223377_x_at -0.688487  3.404342e-15\n",
       "2147  204621_s_at    235304_at -0.685828  4.780699e-15\n",
       "223   216248_s_at  223377_x_at -0.680989  8.786252e-15\n",
       "180   216248_s_at    226423_at -0.676388  1.550675e-14\n",
       "300   204622_x_at    226423_at -0.675906  1.644862e-14\n",
       "2134  204621_s_at    233852_at -0.660596  1.010631e-13\n",
       "2107  204621_s_at  206991_s_at -0.658596  1.271175e-13\n",
       "5516   1568830_at    219532_at -0.657823  1.388383e-13\n",
       "343   204622_x_at  223377_x_at -0.656574  1.600217e-13\n",
       "5506   1568830_at     64418_at -0.654978  1.916569e-13"
      ]
     },
     "execution_count": 343,
     "metadata": {},
     "output_type": "execute_result"
    }
   ],
   "source": [
    "print('top 10 negative correlations:')\n",
    "sigcorr.nsmallest(10,'my_corr')"
   ]
  },
  {
   "cell_type": "markdown",
   "metadata": {},
   "source": [
    "Conclusion:\n",
    "We have significant co-expression for a lot of gene pairs: 891 with correlation >0.7 (when 7140 is all possible pair combinations)\n",
    "\n",
    "There's no exist so significant negative correlation between genes"
   ]
  },
  {
   "cell_type": "markdown",
   "metadata": {},
   "source": [
    "2. What would have been advantages and disadvantages of computing co-expression for all genes in the study rather than only for genes in D? "
   ]
  },
  {
   "cell_type": "markdown",
   "metadata": {},
   "source": [
    "Dissadvantages: execution time; multiple testing error rate higher because more comparisons; we are interesting more in correlations between target genes - those that associated with the AMI\n",
    "\n",
    "Advantages: correlations for more genes can be found. Maybe we missed some associated to AMI genes that we can find by high correlation with another gene that is associated with AMI"
   ]
  },
  {
   "cell_type": "markdown",
   "metadata": {},
   "source": [
    "**3** Perform the above steps on the same set D, but restrict attention only to samples labeled M. What do you see now? Can you explain this?"
   ]
  },
  {
   "cell_type": "code",
   "execution_count": 61,
   "metadata": {},
   "outputs": [
    {
     "name": "stdout",
     "output_type": "stream",
     "text": [
      "Number of pairs: 7140\n",
      "pairs with correlation p_value<0.05: 3294\n",
      "significant correlations with abs correlation >0.6:  1005\n",
      "significant correlations with positive correlation >0.6:  1004\n",
      "significant correlations with positive correlation >0.7:  477\n",
      "significant correlations with positive correlation >0.8:  132\n",
      "significant correlations with positive correlation >0.9:  11\n"
     ]
    }
   ],
   "source": [
    "#calculate D\n",
    "dwrs = pd.DataFrame(wrs)\n",
    "smallest = dwrs[dwrs.statistic>0].nsmallest(60,'pvalue')\n",
    "over = data.iloc[smallest.index]\n",
    "smallest = dwrs[dwrs.statistic<0].nsmallest(60,'pvalue')\n",
    "under = data.iloc[smallest.index]\n",
    "D = over.append(under)\n",
    "D = D[ami]\n",
    "\n",
    "corr = D.transpose().astype(float).corr(method='spearman')\n",
    "del corr.index.name\n",
    "sigcorr = flatten_corr(corr)\n",
    "sigcorr['p_value'] = sigcorr.apply(p_value,axis=1)\n",
    "print('Number of pairs:', len(sigcorr))\n",
    "sigcorr = sigcorr[sigcorr['p_value']<0.05]\n",
    "print('pairs with correlation p_value<0.05:',len(sigcorr))\n",
    "\n",
    "print('significant correlations with abs correlation >0.6: ',len(sigcorr[abs(sigcorr['my_corr']) > 0.6]))\n",
    "print('significant correlations with positive correlation >0.6: ',len(sigcorr[sigcorr['my_corr'] > 0.6]))\n",
    "print('significant correlations with positive correlation >0.7: ',len(sigcorr[sigcorr['my_corr'] > 0.7]))\n",
    "print('significant correlations with positive correlation >0.8: ',len(sigcorr[sigcorr['my_corr'] > 0.8]))\n",
    "print('significant correlations with positive correlation >0.9: ',len(sigcorr[sigcorr['my_corr'] > 0.9]))"
   ]
  },
  {
   "cell_type": "code",
   "execution_count": 62,
   "metadata": {},
   "outputs": [
    {
     "data": {
      "text/plain": [
       "<matplotlib.axes._subplots.AxesSubplot at 0x11fb13c50>"
      ]
     },
     "execution_count": 62,
     "metadata": {},
     "output_type": "execute_result"
    },
    {
     "data": {
      "image/png": "[encoded data removed]",
      "text/plain": [
       "<Figure size 432x288 with 1 Axes>"
      ]
     },
     "metadata": {
      "image/png": {
       "height": 250,
       "width": 383
      },
      "needs_background": "light"
     },
     "output_type": "display_data"
    }
   ],
   "source": [
    "sigcorr['my_corr'].hist()"
   ]
  },
  {
   "cell_type": "code",
   "execution_count": 63,
   "metadata": {},
   "outputs": [
    {
     "name": "stdout",
     "output_type": "stream",
     "text": [
      "top 10 positive correlations:\n"
     ]
    },
    {
     "data": {
      "text/html": [
       "<div>\n",
       "<style scoped>\n",
       "    .dataframe tbody tr th:only-of-type {\n",
       "        vertical-align: middle;\n",
       "    }\n",
       "\n",
       "    .dataframe tbody tr th {\n",
       "        vertical-align: top;\n",
       "    }\n",
       "\n",
       "    .dataframe thead th {\n",
       "        text-align: right;\n",
       "    }\n",
       "</style>\n",
       "<table border=\"1\" class=\"dataframe\">\n",
       "  <thead>\n",
       "    <tr style=\"text-align: right;\">\n",
       "      <th></th>\n",
       "      <th>gen_a</th>\n",
       "      <th>gen_b</th>\n",
       "      <th>my_corr</th>\n",
       "      <th>p_value</th>\n",
       "    </tr>\n",
       "  </thead>\n",
       "  <tbody>\n",
       "    <tr>\n",
       "      <th>10790</th>\n",
       "      <td>204620_s_at</td>\n",
       "      <td>221731_x_at</td>\n",
       "      <td>0.972755</td>\n",
       "      <td>1.731798e-31</td>\n",
       "    </tr>\n",
       "    <tr>\n",
       "      <th>7501</th>\n",
       "      <td>204622_x_at</td>\n",
       "      <td>216248_s_at</td>\n",
       "      <td>0.949694</td>\n",
       "      <td>2.439718e-25</td>\n",
       "    </tr>\n",
       "    <tr>\n",
       "      <th>7745</th>\n",
       "      <td>203887_s_at</td>\n",
       "      <td>203888_at</td>\n",
       "      <td>0.944082</td>\n",
       "      <td>2.753075e-24</td>\n",
       "    </tr>\n",
       "    <tr>\n",
       "      <th>12556</th>\n",
       "      <td>211924_s_at</td>\n",
       "      <td>222934_s_at</td>\n",
       "      <td>0.937959</td>\n",
       "      <td>2.956065e-23</td>\n",
       "    </tr>\n",
       "    <tr>\n",
       "      <th>5413</th>\n",
       "      <td>1552320_a_at</td>\n",
       "      <td>1552321_a_at</td>\n",
       "      <td>0.932959</td>\n",
       "      <td>1.728283e-22</td>\n",
       "    </tr>\n",
       "    <tr>\n",
       "      <th>13521</th>\n",
       "      <td>202497_x_at</td>\n",
       "      <td>216236_s_at</td>\n",
       "      <td>0.931633</td>\n",
       "      <td>2.698793e-22</td>\n",
       "    </tr>\n",
       "    <tr>\n",
       "      <th>10039</th>\n",
       "      <td>203821_at</td>\n",
       "      <td>38037_at</td>\n",
       "      <td>0.931122</td>\n",
       "      <td>3.195811e-22</td>\n",
       "    </tr>\n",
       "    <tr>\n",
       "      <th>486</th>\n",
       "      <td>218805_at</td>\n",
       "      <td>64064_at</td>\n",
       "      <td>0.926429</td>\n",
       "      <td>1.427830e-21</td>\n",
       "    </tr>\n",
       "    <tr>\n",
       "      <th>12235</th>\n",
       "      <td>201963_at</td>\n",
       "      <td>207275_s_at</td>\n",
       "      <td>0.923163</td>\n",
       "      <td>3.819684e-21</td>\n",
       "    </tr>\n",
       "    <tr>\n",
       "      <th>9670</th>\n",
       "      <td>205403_at</td>\n",
       "      <td>211372_s_at</td>\n",
       "      <td>0.913061</td>\n",
       "      <td>6.215500e-20</td>\n",
       "    </tr>\n",
       "  </tbody>\n",
       "</table>\n",
       "</div>"
      ],
      "text/plain": [
       "              gen_a         gen_b   my_corr       p_value\n",
       "10790   204620_s_at   221731_x_at  0.972755  1.731798e-31\n",
       "7501    204622_x_at   216248_s_at  0.949694  2.439718e-25\n",
       "7745    203887_s_at     203888_at  0.944082  2.753075e-24\n",
       "12556   211924_s_at   222934_s_at  0.937959  2.956065e-23\n",
       "5413   1552320_a_at  1552321_a_at  0.932959  1.728283e-22\n",
       "13521   202497_x_at   216236_s_at  0.931633  2.698793e-22\n",
       "10039     203821_at      38037_at  0.931122  3.195811e-22\n",
       "486       218805_at      64064_at  0.926429  1.427830e-21\n",
       "12235     201963_at   207275_s_at  0.923163  3.819684e-21\n",
       "9670      205403_at   211372_s_at  0.913061  6.215500e-20"
      ]
     },
     "execution_count": 63,
     "metadata": {},
     "output_type": "execute_result"
    }
   ],
   "source": [
    "print('top 10 positive correlations:')\n",
    "sigcorr.nlargest(10,'my_corr')"
   ]
  },
  {
   "cell_type": "code",
   "execution_count": 65,
   "metadata": {},
   "outputs": [
    {
     "name": "stdout",
     "output_type": "stream",
     "text": [
      "top 10 negative correlations:\n"
     ]
    },
    {
     "data": {
      "text/html": [
       "<div>\n",
       "<style scoped>\n",
       "    .dataframe tbody tr th:only-of-type {\n",
       "        vertical-align: middle;\n",
       "    }\n",
       "\n",
       "    .dataframe tbody tr th {\n",
       "        vertical-align: top;\n",
       "    }\n",
       "\n",
       "    .dataframe thead th {\n",
       "        text-align: right;\n",
       "    }\n",
       "</style>\n",
       "<table border=\"1\" class=\"dataframe\">\n",
       "  <thead>\n",
       "    <tr style=\"text-align: right;\">\n",
       "      <th></th>\n",
       "      <th>gen_a</th>\n",
       "      <th>gen_b</th>\n",
       "      <th>my_corr</th>\n",
       "      <th>p_value</th>\n",
       "    </tr>\n",
       "  </thead>\n",
       "  <tbody>\n",
       "    <tr>\n",
       "      <th>14087</th>\n",
       "      <td>202464_s_at</td>\n",
       "      <td>235304_at</td>\n",
       "      <td>-0.604388</td>\n",
       "      <td>0.000004</td>\n",
       "    </tr>\n",
       "    <tr>\n",
       "      <th>7483</th>\n",
       "      <td>204622_x_at</td>\n",
       "      <td>223377_x_at</td>\n",
       "      <td>-0.597449</td>\n",
       "      <td>0.000006</td>\n",
       "    </tr>\n",
       "    <tr>\n",
       "      <th>7466</th>\n",
       "      <td>204622_x_at</td>\n",
       "      <td>221937_at</td>\n",
       "      <td>-0.590714</td>\n",
       "      <td>0.000008</td>\n",
       "    </tr>\n",
       "    <tr>\n",
       "      <th>7363</th>\n",
       "      <td>216248_s_at</td>\n",
       "      <td>223377_x_at</td>\n",
       "      <td>-0.578571</td>\n",
       "      <td>0.000013</td>\n",
       "    </tr>\n",
       "    <tr>\n",
       "      <th>7474</th>\n",
       "      <td>204622_x_at</td>\n",
       "      <td>233852_at</td>\n",
       "      <td>-0.567347</td>\n",
       "      <td>0.000021</td>\n",
       "    </tr>\n",
       "    <tr>\n",
       "      <th>9287</th>\n",
       "      <td>204621_s_at</td>\n",
       "      <td>235304_at</td>\n",
       "      <td>-0.567143</td>\n",
       "      <td>0.000021</td>\n",
       "    </tr>\n",
       "    <tr>\n",
       "      <th>7493</th>\n",
       "      <td>204622_x_at</td>\n",
       "      <td>219494_at</td>\n",
       "      <td>-0.563367</td>\n",
       "      <td>0.000025</td>\n",
       "    </tr>\n",
       "    <tr>\n",
       "      <th>7482</th>\n",
       "      <td>204622_x_at</td>\n",
       "      <td>213405_at</td>\n",
       "      <td>-0.551020</td>\n",
       "      <td>0.000041</td>\n",
       "    </tr>\n",
       "    <tr>\n",
       "      <th>9293</th>\n",
       "      <td>204621_s_at</td>\n",
       "      <td>219494_at</td>\n",
       "      <td>-0.536939</td>\n",
       "      <td>0.000070</td>\n",
       "    </tr>\n",
       "    <tr>\n",
       "      <th>7499</th>\n",
       "      <td>204622_x_at</td>\n",
       "      <td>241582_at</td>\n",
       "      <td>-0.532041</td>\n",
       "      <td>0.000083</td>\n",
       "    </tr>\n",
       "  </tbody>\n",
       "</table>\n",
       "</div>"
      ],
      "text/plain": [
       "             gen_a        gen_b   my_corr   p_value\n",
       "14087  202464_s_at    235304_at -0.604388  0.000004\n",
       "7483   204622_x_at  223377_x_at -0.597449  0.000006\n",
       "7466   204622_x_at    221937_at -0.590714  0.000008\n",
       "7363   216248_s_at  223377_x_at -0.578571  0.000013\n",
       "7474   204622_x_at    233852_at -0.567347  0.000021\n",
       "9287   204621_s_at    235304_at -0.567143  0.000021\n",
       "7493   204622_x_at    219494_at -0.563367  0.000025\n",
       "7482   204622_x_at    213405_at -0.551020  0.000041\n",
       "9293   204621_s_at    219494_at -0.536939  0.000070\n",
       "7499   204622_x_at    241582_at -0.532041  0.000083"
      ]
     },
     "execution_count": 65,
     "metadata": {},
     "output_type": "execute_result"
    }
   ],
   "source": [
    "print('top 10 negative correlations:')\n",
    "sigcorr.nsmallest(10,'my_corr')"
   ]
  },
  {
   "cell_type": "markdown",
   "metadata": {},
   "source": [
    "We got much less significant correlations. \n",
    "\n",
    "Probably it happens because H and M patients have significantly different expression levels, and if genes correlates we see significant changes for H and M for both genes. And it contribute to correlation significance. "
   ]
  },
  {
   "cell_type": "markdown",
   "metadata": {},
   "source": [
    "### e. Plots and Conclusions of the DE and correlation analysis\n",
    "1. Construct the DE overabundance plots (blue and green lines as shown in class) for M vs H overexpression (higher expression levels in M) using WRS and t-test using the results you had computed in Section 3c.   \n",
    "    State, for each comparison, the number of genes, k, at which we observe:  \n",
    "\tFDR = 0.1  \n",
    "\tFDR = 0.05  \n",
    "\tFDR = 0.001   \n",
    "    If these events are not observed at any k, then make that statement.  \n",
    "2. What can you say about the difference in results obtained in WRS vs those obtained by Student t-test?\n",
    "3. Select any 3 differentially expressed genes, from D (which was defined in 3d), and produce a graphical representation of their expression patterns that demonstrates the observed DE."
   ]
  },
  {
   "cell_type": "code",
   "execution_count": null,
   "metadata": {},
   "outputs": [],
   "source": []
  },
  {
   "cell_type": "markdown",
   "metadata": {},
   "source": [
    "### f. Heatmap\n",
    "Draw a heatmap representation of the expression values of the genes in D (from 3d), across the entire cohort (all samples).   Order the genes and the samples to produce the maximal visual effect.  \n",
    "\n"
   ]
  },
  {
   "cell_type": "code",
   "execution_count": null,
   "metadata": {},
   "outputs": [],
   "source": [
    "# def corr_heat_map(corr):\n",
    "#     ax = sns.heatmap(\n",
    "#         corr, \n",
    "#         vmin=-1, vmax=1, center=0,\n",
    "#         cmap=sns.diverging_palette(20, 220, n=200),\n",
    "#         square=True\n",
    "#     )\n",
    "#     ax.set_xticklabels(\n",
    "#         ax.get_xticklabels(),\n",
    "#         rotation=45,\n",
    "#         horizontalalignment='right'\n",
    "#     );\n",
    "# import seaborn as sns\n",
    "# corr_heat_map(corr)\n"
   ]
  }
 ],
 "metadata": {
  "kernelspec": {
   "display_name": "Environment (conda_py371)",
   "language": "python",
   "name": "conda_py371"
  },
  "language_info": {
   "codemirror_mode": {
    "name": "ipython",
    "version": 3
   },
   "file_extension": ".py",
   "mimetype": "text/x-python",
   "name": "python",
   "nbconvert_exporter": "python",
   "pygments_lexer": "ipython3",
   "version": "3.7.2"
  }
 },
 "nbformat": 4,
 "nbformat_minor": 4
}
